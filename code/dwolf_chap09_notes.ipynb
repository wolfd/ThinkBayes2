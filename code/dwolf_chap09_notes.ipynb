{
 "cells": [
  {
   "cell_type": "markdown",
   "metadata": {
    "collapsed": true
   },
   "source": [
    "# [Chapter 9](http://www.greenteapress.com/thinkbayes/html/thinkbayes010.html)\n",
    "## Two Dimensions\n",
    "\n",
    "### Paintball\n",
    "\n",
    "![diagram for the paintball problem](http://www.greenteapress.com/thinkbayes/html/thinkbayes022.png)"
   ]
  },
  {
   "cell_type": "code",
   "execution_count": null,
   "metadata": {
    "collapsed": true
   },
   "outputs": [],
   "source": [
    "from __future__ import print_function, division\n",
    "\n",
    "% matplotlib inline\n",
    "import warnings\n",
    "warnings.filterwarnings('ignore')\n",
    "\n",
    "import math\n",
    "import numpy as np\n",
    "\n",
    "from thinkbayes2 import Pmf, Cdf, Suite, Joint\n",
    "import thinkplot"
   ]
  },
  {
   "cell_type": "code",
   "execution_count": null,
   "metadata": {
    "collapsed": true
   },
   "outputs": [],
   "source": [
    "class Paintball(Suite, Joint):\n",
    "    def __init__(self, alphas, betas, locations):\n",
    "        self.locations = locations\n",
    "        pairs = [(alpha, beta)\n",
    "                 for alpha in alphas\n",
    "                 for beta in betas]\n",
    "        Suite.__init__(self, pairs)\n",
    "        \n",
    "    def Likelihood(self, data, hypo):\n",
    "        alpha, beta = hypo\n",
    "        x = data\n",
    "        \n",
    "        pmf = MakeLocationPmf(alpha, beta, self.locations)\n",
    "        like = pmf.Prob(x)\n",
    "        return like\n",
    "    \n",
    "    def Conditional(self, i, j, val):\n",
    "        pmf = Pmf()\n",
    "        for vs, prob in self.Items():\n",
    "            if vs[j] == val:\n",
    "                pmf[vs[i]] += prob\n",
    "        pmf.Normalize()\n",
    "        return pmf\n",
    "\n",
    "def StrafingSpeed(alpha, beta, x):\n",
    "    \"\"\"\n",
    "    alpha and beta are location of shooter\n",
    "    x is location of spatter\n",
    "    \"\"\"\n",
    "    theta = math.atan2(x - alpha, beta)\n",
    "    speed = beta / math.cos(theta)**2\n",
    "    return speed\n",
    "\n",
    "def MakeLocationPmf(alpha, beta, locations):\n",
    "    pmf = Pmf()\n",
    "    for x in locations:\n",
    "        prob = 1.0 / StrafingSpeed(alpha, beta, x)\n",
    "        pmf[x] = prob\n",
    "    pmf.Normalize()\n",
    "    return pmf"
   ]
  },
  {
   "cell_type": "code",
   "execution_count": null,
   "metadata": {
    "collapsed": false
   },
   "outputs": [],
   "source": [
    "alphas = range(0, 31)\n",
    "betas = range(1, 51)\n",
    "locations = range(0, 31)\n",
    "\n",
    "suite = Paintball(alphas, betas, locations)\n",
    "\n",
    "suite.UpdateSet([15, 16, 18, 21])\n",
    "\n",
    "thinkplot.Contour(suite, contour=False, pcolor=True)"
   ]
  },
  {
   "cell_type": "markdown",
   "metadata": {},
   "source": [
    "### Joint distributions"
   ]
  },
  {
   "cell_type": "code",
   "execution_count": null,
   "metadata": {
    "collapsed": false
   },
   "outputs": [],
   "source": [
    "marginal_alpha = suite.Marginal(0)\n",
    "marginal_beta = suite.Marginal(1)\n",
    "\n",
    "print('alpha CI {}'.format(marginal_alpha.CredibleInterval(50)))\n",
    "print('beta  CI {}'.format(marginal_beta.CredibleInterval(50)))"
   ]
  },
  {
   "cell_type": "markdown",
   "metadata": {},
   "source": [
    "### Conditional distributions"
   ]
  },
  {
   "cell_type": "code",
   "execution_count": null,
   "metadata": {
    "collapsed": false
   },
   "outputs": [],
   "source": [
    "betas = [10, 20, 40]\n",
    "\n",
    "for beta in betas:\n",
    "    cond = suite.Conditional(0, 1, beta)\n",
    "    thinkplot.Pdf(cond, label='beta = {}'.format(beta))\n",
    "\n",
    "thinkplot.Config(\n",
    "    legend=True,\n",
    "    loc='top left',\n",
    "    xlabel='Distance',\n",
    "    ylabel='Prob'\n",
    ")"
   ]
  },
  {
   "cell_type": "markdown",
   "metadata": {},
   "source": [
    "### Credible Intervals"
   ]
  },
  {
   "cell_type": "code",
   "execution_count": null,
   "metadata": {
    "collapsed": true
   },
   "outputs": [],
   "source": [
    "def MakeCrediblePlot(suite):\n",
    "    d = dict((pair, 0) for pair in suite.Values())\n",
    "    \n",
    "    percentages = [75, 50, 25]\n",
    "    for p in percentages:\n",
    "        interval = suite.MaxLikeInterval(p)\n",
    "        for pair in interval:\n",
    "            d[pair] += 1\n",
    "            \n",
    "    return d"
   ]
  },
  {
   "cell_type": "code",
   "execution_count": null,
   "metadata": {
    "collapsed": false
   },
   "outputs": [],
   "source": [
    "thinkplot.Contour(MakeCrediblePlot(suite), contour=False, pcolor=True)"
   ]
  },
  {
   "cell_type": "code",
   "execution_count": null,
   "metadata": {
    "collapsed": true
   },
   "outputs": [],
   "source": [
    "\n"
   ]
  }
 ],
 "metadata": {
  "kernelspec": {
   "display_name": "Python [Root]",
   "language": "python",
   "name": "Python [Root]"
  },
  "language_info": {
   "codemirror_mode": {
    "name": "ipython",
    "version": 3
   },
   "file_extension": ".py",
   "mimetype": "text/x-python",
   "name": "python",
   "nbconvert_exporter": "python",
   "pygments_lexer": "ipython3",
   "version": "3.5.2"
  }
 },
 "nbformat": 4,
 "nbformat_minor": 0
}
