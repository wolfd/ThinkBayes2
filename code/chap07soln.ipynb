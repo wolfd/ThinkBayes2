{
 "cells": [
  {
   "cell_type": "markdown",
   "metadata": {},
   "source": [
    "# Think Bayes: Chapter 7\n",
    "\n",
    "This notebook presents code and exercises from Think Bayes, second edition.\n",
    "\n",
    "Copyright 2016 Allen B. Downey\n",
    "\n",
    "MIT License: https://opensource.org/licenses/MIT"
   ]
  },
  {
   "cell_type": "code",
   "execution_count": 1,
   "metadata": {
    "collapsed": true
   },
   "outputs": [],
   "source": [
    "from __future__ import print_function, division\n",
    "\n",
    "% matplotlib inline\n",
    "import warnings\n",
    "warnings.filterwarnings('ignore')\n",
    "\n",
    "import math\n",
    "import numpy as np\n",
    "\n",
    "from thinkbayes2 import Pmf, Cdf, Suite, Joint\n",
    "import thinkplot"
   ]
  },
  {
   "cell_type": "markdown",
   "metadata": {},
   "source": []
  },
  {
   "cell_type": "code",
   "execution_count": 2,
   "metadata": {
    "collapsed": false
   },
   "outputs": [],
   "source": [
    "USE_SUMMARY_DATA = True\n",
    "\n",
    "from thinkbayes2 import MakeNormalPmf\n",
    "from thinkbayes2 import EvalPoissonPmf\n",
    "\n",
    "class Hockey(Suite):\n",
    "    \"\"\"Represents hypotheses about the scoring rate for a team.\"\"\"\n",
    "\n",
    "    def __init__(self, label=None):\n",
    "        \"\"\"Initializes the Hockey object.\n",
    "\n",
    "        label: string\n",
    "        \"\"\"\n",
    "        if USE_SUMMARY_DATA:\n",
    "            # prior based on each team's average goals scored\n",
    "            mu = 2.8\n",
    "            sigma = 0.3\n",
    "        else:\n",
    "            # prior based on each pair-wise match-up\n",
    "            mu = 2.8\n",
    "            sigma = 0.85\n",
    "\n",
    "        pmf = MakeNormalPmf(mu, sigma, 4)\n",
    "        Suite.__init__(self, pmf, label=label)\n",
    "            \n",
    "    def Likelihood(self, data, hypo):\n",
    "        \"\"\"Computes the likelihood of the data under the hypothesis.\n",
    "\n",
    "        Evaluates the Poisson PMF for lambda and k.\n",
    "\n",
    "        hypo: goal scoring rate in goals per game\n",
    "        data: goals scored in one period\n",
    "        \"\"\"\n",
    "        lam = hypo\n",
    "        k = data\n",
    "        like = EvalPoissonPmf(k, lam)\n",
    "        return like\n"
   ]
  },
  {
   "cell_type": "markdown",
   "metadata": {},
   "source": []
  },
  {
   "cell_type": "code",
   "execution_count": 3,
   "metadata": {
    "collapsed": false
   },
   "outputs": [],
   "source": [
    "from thinkbayes2 import MakeMixture\n",
    "from thinkbayes2 import MakePoissonPmf\n",
    "\n",
    "def MakeGoalPmf(suite, high=10):\n",
    "    \"\"\"Makes the distribution of goals scored, given distribution of lam.\n",
    "\n",
    "    suite: distribution of goal-scoring rate\n",
    "    high: upper bound\n",
    "\n",
    "    returns: Pmf of goals per game\n",
    "    \"\"\"\n",
    "    metapmf = Pmf()\n",
    "\n",
    "    for lam, prob in suite.Items():\n",
    "        pmf = MakePoissonPmf(lam, high)\n",
    "        metapmf.Set(pmf, prob)\n",
    "\n",
    "    mix = MakeMixture(metapmf, label=suite.label)\n",
    "    return mix"
   ]
  },
  {
   "cell_type": "markdown",
   "metadata": {},
   "source": []
  },
  {
   "cell_type": "code",
   "execution_count": 4,
   "metadata": {
    "collapsed": true
   },
   "outputs": [],
   "source": [
    "from thinkbayes2 import MakeExponentialPmf\n",
    "\n",
    "def MakeGoalTimePmf(suite):\n",
    "    \"\"\"Makes the distribution of time til first goal.\n",
    "\n",
    "    suite: distribution of goal-scoring rate\n",
    "\n",
    "    returns: Pmf of goals per game\n",
    "    \"\"\"\n",
    "    metapmf = Pmf()\n",
    "\n",
    "    for lam, prob in suite.Items():\n",
    "        pmf = MakeExponentialPmf(lam, high=2, n=2001)\n",
    "        metapmf.Set(pmf, prob)\n",
    "\n",
    "    mix = MakeMixture(metapmf, label=suite.label)\n",
    "    return mix"
   ]
  },
  {
   "cell_type": "markdown",
   "metadata": {},
   "source": []
  },
  {
   "cell_type": "code",
   "execution_count": 5,
   "metadata": {
    "collapsed": false
   },
   "outputs": [],
   "source": [
    "def ReadHockeyData(filename='hockey_data.csv'):\n",
    "    \"\"\"Read game scores from the data file.\n",
    "\n",
    "    filename: string\n",
    "    \"\"\"\n",
    "    game_list = columns.read_csv(filename, Game)\n",
    "\n",
    "    # map from gameID to list of two games\n",
    "    games = {}\n",
    "    for game in game_list:\n",
    "        if game.season != 2011:\n",
    "            continue\n",
    "        key = game.game\n",
    "        games.setdefault(key, []).append(game)\n",
    "\n",
    "    # map from (team1, team2) to (score1, score2)\n",
    "    pairs = {}\n",
    "    for key, pair in games.iteritems():\n",
    "        t1, t2 = pair\n",
    "        key = t1.team, t2.team\n",
    "        entry = t1.total, t2.total\n",
    "        pairs.setdefault(key, []).append(entry)\n",
    "\n",
    "    ProcessScoresTeamwise(pairs)\n",
    "    ProcessScoresPairwise(pairs)"
   ]
  },
  {
   "cell_type": "markdown",
   "metadata": {},
   "source": []
  },
  {
   "cell_type": "code",
   "execution_count": 6,
   "metadata": {
    "collapsed": false
   },
   "outputs": [],
   "source": [
    "def ProcessScoresPairwise(pairs):\n",
    "    \"\"\"Average number of goals for each team against each opponent.\n",
    "\n",
    "    pairs: map from (team1, team2) to (score1, score2)\n",
    "    \"\"\"\n",
    "    # map from (team1, team2) to list of goals scored\n",
    "    goals_scored = {}\n",
    "    for key, entries in pairs.iteritems():\n",
    "        t1, t2 = key\n",
    "        for entry in entries:\n",
    "            g1, g2 = entry\n",
    "            goals_scored.setdefault((t1, t2), []).append(g1)\n",
    "            goals_scored.setdefault((t2, t1), []).append(g2)\n",
    "\n",
    "    # make a list of average goals scored\n",
    "    lams = []\n",
    "    for key, goals in goals_scored.iteritems():\n",
    "        if len(goals) < 3:\n",
    "            continue\n",
    "        lam = thinkbayes2.Mean(goals)\n",
    "        lams.append(lam)\n",
    "\n",
    "    # make the distribution of average goals scored\n",
    "    cdf = thinkbayes2.MakeCdfFromList(lams)\n",
    "    thinkplot.Cdf(cdf)\n",
    "    thinkplot.Show()\n",
    "\n",
    "    mu, var = thinkbayes2.MeanVar(lams)\n",
    "    print('mu, sig', mu, math.sqrt(var))\n",
    "\n",
    "    print('BOS v VAN', pairs['BOS', 'VAN'])"
   ]
  },
  {
   "cell_type": "markdown",
   "metadata": {},
   "source": []
  },
  {
   "cell_type": "code",
   "execution_count": 7,
   "metadata": {
    "collapsed": false
   },
   "outputs": [],
   "source": [
    "def ProcessScoresTeamwise(pairs):\n",
    "    \"\"\"Average number of goals for each team.\n",
    "\n",
    "    pairs: map from (team1, team2) to (score1, score2)\n",
    "    \"\"\"\n",
    "    # map from team to list of goals scored\n",
    "    goals_scored = {}\n",
    "    for key, entries in pairs.iteritems():\n",
    "        t1, t2 = key\n",
    "        for entry in entries:\n",
    "            g1, g2 = entry\n",
    "            goals_scored.setdefault(t1, []).append(g1)\n",
    "            goals_scored.setdefault(t2, []).append(g2)\n",
    "\n",
    "    # make a list of average goals scored\n",
    "    lams = []\n",
    "    for key, goals in goals_scored.iteritems():\n",
    "        lam = thinkbayes2.Mean(goals)\n",
    "        lams.append(lam)\n",
    "\n",
    "    # make the distribution of average goals scored\n",
    "    cdf = thinkbayes2.MakeCdfFromList(lams)\n",
    "    thinkplot.Cdf(cdf)\n",
    "    thinkplot.Show()\n",
    "\n",
    "    mu, var = thinkbayes2.MeanVar(lams)\n",
    "    print('mu, sig', mu, math.sqrt(var))\n"
   ]
  },
  {
   "cell_type": "markdown",
   "metadata": {},
   "source": []
  },
  {
   "cell_type": "code",
   "execution_count": 8,
   "metadata": {
    "collapsed": false
   },
   "outputs": [],
   "source": [
    "suite1 = Hockey('bruins')\n",
    "suite2 = Hockey('canucks')"
   ]
  },
  {
   "cell_type": "markdown",
   "metadata": {},
   "source": []
  },
  {
   "cell_type": "code",
   "execution_count": 9,
   "metadata": {
    "collapsed": false
   },
   "outputs": [
    {
     "data": {
      "image/png": "[encoded data removed]",
      "text/plain": [
       "<matplotlib.figure.Figure at 0x7ff469a7e7d0>"
      ]
     },
     "metadata": {},
     "output_type": "display_data"
    }
   ],
   "source": [
    "thinkplot.PrePlot(num=2)\n",
    "thinkplot.Pmf(suite1)\n",
    "thinkplot.Pmf(suite2)\n",
    "thinkplot.Config(xlabel='Goals per game',\n",
    "                ylabel='Probability')"
   ]
  },
  {
   "cell_type": "code",
   "execution_count": 10,
   "metadata": {
    "collapsed": false
   },
   "outputs": [
    {
     "data": {
      "image/png": "[encoded data removed]",
      "text/plain": [
       "<matplotlib.figure.Figure at 0x7ff467528c50>"
      ]
     },
     "metadata": {},
     "output_type": "display_data"
    }
   ],
   "source": [
    "suite1.UpdateSet([0, 2, 8, 4])\n",
    "suite2.UpdateSet([1, 3, 1, 0])\n",
    "\n",
    "thinkplot.PrePlot(num=2)\n",
    "thinkplot.Pmf(suite1)\n",
    "thinkplot.Pmf(suite2)\n",
    "thinkplot.Config(xlabel='Goals per game',\n",
    "                ylabel='Probability')"
   ]
  },
  {
   "cell_type": "code",
   "execution_count": 11,
   "metadata": {
    "collapsed": false
   },
   "outputs": [
    {
     "data": {
      "image/png": "[encoded data removed]",
      "text/plain": [
       "<matplotlib.figure.Figure at 0x7ff467268350>"
      ]
     },
     "metadata": {},
     "output_type": "display_data"
    }
   ],
   "source": [
    "goal_dist1 = MakeGoalPmf(suite1)\n",
    "goal_dist2 = MakeGoalPmf(suite2)\n",
    "\n",
    "thinkplot.PrePlot(num=2)\n",
    "thinkplot.Pmf(goal_dist1)\n",
    "thinkplot.Pmf(goal_dist2)\n",
    "thinkplot.Config(xlabel='Goals',\n",
    "                ylabel='Probability')"
   ]
  },
  {
   "cell_type": "code",
   "execution_count": 12,
   "metadata": {
    "collapsed": false
   },
   "outputs": [
    {
     "name": "stdout",
     "output_type": "stream",
     "text": [
      "MLE bruins 2.872\n",
      "MLE canucks 2.608\n"
     ]
    },
    {
     "data": {
      "image/png": "[encoded data removed]",
      "text/plain": [
       "<matplotlib.figure.Figure at 0x7ff487feee50>"
      ]
     },
     "metadata": {},
     "output_type": "display_data"
    }
   ],
   "source": [
    "time_dist1 = MakeGoalTimePmf(suite1)    \n",
    "time_dist2 = MakeGoalTimePmf(suite2)\n",
    " \n",
    "print('MLE bruins', suite1.MaximumLikelihood())\n",
    "print('MLE canucks', suite2.MaximumLikelihood())\n",
    "   \n",
    "thinkplot.PrePlot(num=2)\n",
    "thinkplot.Pmf(time_dist1)\n",
    "thinkplot.Pmf(time_dist2)    \n",
    "thinkplot.Config(xlabel='Games until goal',\n",
    "                   ylabel='Probability')"
   ]
  },
  {
   "cell_type": "code",
   "execution_count": 15,
   "metadata": {
    "collapsed": false
   },
   "outputs": [
    {
     "name": "stdout",
     "output_type": "stream",
     "text": [
      "0.457996492072 0.370293408955 0.171710098973\n"
     ]
    }
   ],
   "source": [
    "diff = goal_dist1 - goal_dist2\n",
    "p_win = diff.ProbGreater(0)\n",
    "p_loss = diff.ProbLess(0)\n",
    "p_tie = diff.Prob(0)\n",
    "\n",
    "print(p_win, p_loss, p_tie)\n"
   ]
  },
  {
   "cell_type": "code",
   "execution_count": 17,
   "metadata": {
    "collapsed": false
   },
   "outputs": [
    {
     "name": "stdout",
     "output_type": "stream",
     "text": [
      "p_win_in_overtime 0.523471221795\n",
      "p_win_overall 0.547881787376\n"
     ]
    }
   ],
   "source": [
    "p_win_in_overtime = time_dist1.ProbLess(time_dist2)\n",
    "p_adjust = time_dist1.ProbEqual(time_dist2)\n",
    "p_win_in_overtime += p_adjust / 2\n",
    "print('p_win_in_overtime', p_win_in_overtime) \n",
    "\n",
    "p_win_overall = p_win + p_tie * p_win_in_overtime\n",
    "print('p_win_overall', p_win_overall)"
   ]
  },
  {
   "cell_type": "markdown",
   "metadata": {
    "collapsed": false
   },
   "source": [
    "**Exercise:** Which is a better way to break a tie: overtime or penalty shots?"
   ]
  },
  {
   "cell_type": "markdown",
   "metadata": {
    "collapsed": false
   },
   "source": [
    "**Exercise:** Suppose that you are an ecologist sampling the insect population in a new environment. You deploy 100 traps in a test area and come back the next day to check on them. You find that 37 traps have been triggered, trapping an insect inside. Once a trap triggers, it cannot trap another insect until it has been reset.\n",
    "If you reset the traps and come back in two days, how many traps do you expect to find triggered? Compute a posterior predictive distribution for the number of traps."
   ]
  },
  {
   "cell_type": "code",
   "execution_count": null,
   "metadata": {
    "collapsed": true
   },
   "outputs": [],
   "source": []
  }
 ],
 "metadata": {
  "kernelspec": {
   "display_name": "Python 2",
   "language": "python",
   "name": "python2"
  },
  "language_info": {
   "codemirror_mode": {
    "name": "ipython",
    "version": 2
   },
   "file_extension": ".py",
   "mimetype": "text/x-python",
   "name": "python",
   "nbconvert_exporter": "python",
   "pygments_lexer": "ipython2",
   "version": "2.7.11"
  }
 },
 "nbformat": 4,
 "nbformat_minor": 0
}
