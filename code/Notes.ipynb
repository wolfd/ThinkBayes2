{
 "cells": [
  {
   "cell_type": "markdown",
   "metadata": {},
   "source": [
    "### Law of Total Probability\n",
    "<pre>\n",
    "\n",
    "(A) (B)\n",
    "P(A or B) = P(A) + P(B) if exclusive\n",
    "\n",
    "|         = P(A) + P(B) - P(A and B)\n",
    "(A()B)\n",
    "\n",
    "\n",
    "P(A and B) = P(A)P(B) if independent\n",
    "|          = P(A)P(B|A)\n",
    "|            if independent P(B) = P(B|A)\n",
    "\n",
    "</pre>"
   ]
  },
  {
   "cell_type": "markdown",
   "metadata": {},
   "source": [
    "### PMF\n",
    "$PMF_{binomial}(k;n,p) = {n \\choose k} p^k(1-p)^{n-k}$\n",
    "\n",
    "$k = constant$\n",
    "\n",
    "\n",
    "$PMF(k)$ -> probability 0-1"
   ]
  },
  {
   "cell_type": "code",
   "execution_count": null,
   "metadata": {
    "collapsed": true
   },
   "outputs": [],
   "source": []
  },
  {
   "cell_type": "markdown",
   "metadata": {
    "collapsed": true
   },
   "source": [
    "### PDF\n",
    "$PDF_{beta}(p;\\alpha,\\beta) = Kp^{\\alpha-1}(1-p)^{\\beta-1}$\n",
    "\n",
    "this is a conjugate of the PMF binomial\n",
    "\n",
    "$PDF(p)$ -> NOT a probability, and NOT generally 0-1\n",
    "\n",
    "it's a probability density, and you integrate it to get a probability mass (which is just a probability)\n",
    "\n",
    "you can answer questions in ranges (between 20 and 30 years old), but not single points (which makes sense)"
   ]
  },
  {
   "cell_type": "code",
   "execution_count": null,
   "metadata": {
    "collapsed": true
   },
   "outputs": [],
   "source": []
  }
 ],
 "metadata": {
  "anaconda-cloud": {},
  "kernelspec": {
   "display_name": "Python [Root]",
   "language": "python",
   "name": "Python [Root]"
  },
  "language_info": {
   "codemirror_mode": {
    "name": "ipython",
    "version": 3
   },
   "file_extension": ".py",
   "mimetype": "text/x-python",
   "name": "python",
   "nbconvert_exporter": "python",
   "pygments_lexer": "ipython3",
   "version": "3.5.2"
  }
 },
 "nbformat": 4,
 "nbformat_minor": 0
}
